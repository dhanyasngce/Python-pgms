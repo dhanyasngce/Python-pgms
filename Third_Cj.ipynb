{
  "nbformat": 4,
  "nbformat_minor": 0,
  "metadata": {
    "colab": {
      "name": "Third Cj.ipynb",
      "provenance": [],
      "include_colab_link": true
    },
    "kernelspec": {
      "name": "python3",
      "display_name": "Python 3"
    }
  },
  "cells": [
    {
      "cell_type": "markdown",
      "metadata": {
        "id": "view-in-github",
        "colab_type": "text"
      },
      "source": [
        "<a href=\"https://colab.research.google.com/github/dhanyasngce/Python-pgms/blob/main/Third_Cj.ipynb\" target=\"_parent\"><img src=\"https://colab.research.google.com/assets/colab-badge.svg\" alt=\"Open In Colab\"/></a>"
      ]
    },
    {
      "cell_type": "code",
      "metadata": {
        "id": "YwnF9_z1Elfw"
      },
      "source": [
        "print()\r\n",
        "print(8*\"\\n\")\r\n",
        "print(\"hello world\",end='*')\r\n",
        "name=input('What is your name ?')\r\n",
        "print('hello' +name)"
      ],
      "execution_count": null,
      "outputs": []
    },
    {
      "cell_type": "code",
      "metadata": {
        "colab": {
          "base_uri": "https://localhost:8080/"
        },
        "id": "coEZbVewNbzG",
        "outputId": "a1918874-ed55-4d15-a637-6360c630a1d3"
      },
      "source": [
        "birth_year=int(input('Enter your birth year:'))\r\n",
        "age= 2020-birth_year\r\n",
        "print(age)\r\n"
      ],
      "execution_count": null,
      "outputs": [
        {
          "output_type": "stream",
          "text": [
            "Enter your birth year:1982\n",
            "38\n"
          ],
          "name": "stdout"
        }
      ]
    },
    {
      "cell_type": "code",
      "metadata": {
        "colab": {
          "base_uri": "https://localhost:8080/"
        },
        "id": "8crcFou2P7xj",
        "outputId": "d0665a62-1687-4dbe-ec99-399644edb928"
      },
      "source": [
        "course='Python for Beginners'\r\n",
        "print(course.upper())\r\n",
        "print(course.lower())\r\n",
        "print(course.find('i'))\r\n",
        "print(course.find('for'))\r\n",
        "print(course.replace('for','ggg'))\r\n",
        "x=5\r\n",
        "y=6\r\n",
        "print('The value of x is {} and y is {}'.format(x,y))\r\n",
        "print('I love {1} and {0}'.format('bread','butter'))\r\n"
      ],
      "execution_count": null,
      "outputs": [
        {
          "output_type": "stream",
          "text": [
            "PYTHON FOR BEGINNERS\n",
            "python for beginners\n",
            "14\n",
            "7\n",
            "Python ggg Beginners\n",
            "The value of x is 5 and y is 6\n",
            "I love butter and bread\n"
          ],
          "name": "stdout"
        }
      ]
    },
    {
      "cell_type": "code",
      "metadata": {
        "colab": {
          "base_uri": "https://localhost:8080/"
        },
        "id": "F9ceNnlZUi09",
        "outputId": "8091cfc1-90c3-47b1-b56a-631c3e4cc00e"
      },
      "source": [
        "3/2\r\n",
        "3//2\r\n",
        "x=(10+3)*2\r\n",
        "print(x)\r\n",
        ">\r\n",
        "<\r\n",
        "==\r\n",
        "!="
      ],
      "execution_count": null,
      "outputs": [
        {
          "output_type": "stream",
          "text": [
            "26\n"
          ],
          "name": "stdout"
        }
      ]
    },
    {
      "cell_type": "code",
      "metadata": {
        "colab": {
          "base_uri": "https://localhost:8080/"
        },
        "id": "pvzTxh66WLw8",
        "outputId": "6298f4c0-5577-4af8-9e7e-a6b7fddac254"
      },
      "source": [
        "price=25\r\n",
        "print(not price>10)\r\n",
        "&\r\n",
        "|\r\n",
        "~\r\n",
        "^\r\n",
        ">>\r\n",
        "<<"
      ],
      "execution_count": null,
      "outputs": [
        {
          "output_type": "stream",
          "text": [
            "False\n"
          ],
          "name": "stdout"
        }
      ]
    },
    {
      "cell_type": "code",
      "metadata": {
        "colab": {
          "base_uri": "https://localhost:8080/"
        },
        "id": "kmz-sYLNXQo-",
        "outputId": "2a992c0b-792b-4dee-f4f6-0ac844755553"
      },
      "source": [
        "temperature=int(input(\"Enter the todays temperature:\"))\r\n",
        "if temperature>30:\r\n",
        "  print('it is a hot day')\r\n",
        "  print('Drink plenty of water')\r\n",
        "elif temperature>20:\r\n",
        "  print('Moderate climate')\r\n",
        "elif temperature>10:\r\n",
        "  print(\"bit cold\")\r\n",
        "else:\r\n",
        "  print('too cold')\r\n",
        "\r\n"
      ],
      "execution_count": null,
      "outputs": [
        {
          "output_type": "stream",
          "text": [
            "Enter the todays temperature:9\n",
            "too cold\n"
          ],
          "name": "stdout"
        }
      ]
    },
    {
      "cell_type": "code",
      "metadata": {
        "colab": {
          "base_uri": "https://localhost:8080/"
        },
        "id": "STAfgjWiavRr",
        "outputId": "8cc2bd41-eeab-4afa-dcb7-f08a89bd7b87"
      },
      "source": [
        "weight=int(input(\"What is you weight\"))\r\n",
        "unit=input(\"ïs this in Kg or Lbs\" )\r\n",
        "if unit.upper() == \"L\":\r\n",
        "  converted=int(weight/0.45)\r\n",
        "  print('weight in Lbs:' +str(converted))\r\n",
        "else:\r\n",
        "  converted=int(weight*0.45)\r\n",
        "  print(f\"weight in Kg {converted}\")"
      ],
      "execution_count": null,
      "outputs": [
        {
          "output_type": "stream",
          "text": [
            "What is you weight80\n",
            "ïs this in Kg or Lbsd\n",
            "weight in Kg 36\n"
          ],
          "name": "stdout"
        }
      ]
    },
    {
      "cell_type": "code",
      "metadata": {
        "colab": {
          "base_uri": "https://localhost:8080/"
        },
        "id": "GB1-4TY2dhLD",
        "outputId": "af4ecc1a-93d4-442a-fc4e-4eefd7c3ebdc"
      },
      "source": [
        "i=1\r\n",
        "while i< 10:\r\n",
        "  print(i)\r\n",
        "  print(i * '@')\r\n",
        "  i=i+1"
      ],
      "execution_count": null,
      "outputs": [
        {
          "output_type": "stream",
          "text": [
            "1\n",
            "@\n",
            "2\n",
            "@@\n",
            "3\n",
            "@@@\n",
            "4\n",
            "@@@@\n",
            "5\n",
            "@@@@@\n",
            "6\n",
            "@@@@@@\n",
            "7\n",
            "@@@@@@@\n",
            "8\n",
            "@@@@@@@@\n",
            "9\n",
            "@@@@@@@@@\n"
          ],
          "name": "stdout"
        }
      ]
    },
    {
      "cell_type": "code",
      "metadata": {
        "colab": {
          "base_uri": "https://localhost:8080/"
        },
        "id": "HC9ezFzsdjD4",
        "outputId": "aacc41f0-a123-4110-f295-1e069761358a"
      },
      "source": [
        "names=['áaa','bbb','ccc','ddd',1]\r\n",
        "#print(names)\r\n",
        "#print(names[-3])\r\n",
        "print(names[0:4])\r\n",
        "#names[0]='fff'\r\n",
        "#print(names)\r\n",
        "#print(names[-1])"
      ],
      "execution_count": null,
      "outputs": [
        {
          "output_type": "stream",
          "text": [
            "['áaa', 'bbb', 'ccc', 'ddd']\n"
          ],
          "name": "stdout"
        }
      ]
    },
    {
      "cell_type": "markdown",
      "metadata": {
        "id": "Ub0I8PECEGmc"
      },
      "source": [
        "**List**\r\n",
        "- The list is a most versatile datatype available in Python which can be written as a list of comma-separated  values  (items)  between  square  brackets.  Important  thing about a list is that items in a list need not be of the same type.\r\n",
        "- Creating a list is  as  simple as  putting different comma-separated values between square brackets.\r\n",
        "- For example −list1 = ['physics', 'chemistry', 1997, 2000]\r\n",
        "- list2 = [1, 2, 3, 4, 5 ]\r\n",
        "- list3 = [\"a\", \"b\", \"c\", \"d\"]\r\n",
        "-The  values  stored  in  a  list  can  be  accessed  using  the  slice  operator[]and [:]with indexes starting at 0 at the beginning of the list and ending with -1.\r\n",
        "- The + sign is the concatenation operation And * is the repetition operation"
      ]
    },
    {
      "cell_type": "code",
      "metadata": {
        "colab": {
          "base_uri": "https://localhost:8080/"
        },
        "id": "Y-xZTcvh07jA",
        "outputId": "5fc9cc3d-d45a-4102-9759-2717b75abaa3"
      },
      "source": [
        "g1=[123,'xyz','abc','xyz']\r\n",
        "g2=['mmm','nnn']\r\n",
        "print(len(g1))\r\n",
        "g3=[1,5,8,5,10]\r\n",
        "print(max(g3))\r\n",
        "print(min(g3))\r\n"
      ],
      "execution_count": null,
      "outputs": [
        {
          "output_type": "stream",
          "text": [
            "4\n",
            "10\n",
            "1\n"
          ],
          "name": "stdout"
        }
      ]
    },
    {
      "cell_type": "code",
      "metadata": {
        "colab": {
          "base_uri": "https://localhost:8080/"
        },
        "id": "UxjsYSQ8jmhm",
        "outputId": "fc3d7ab1-2a8f-4542-ba28-638cdf4ad0d5"
      },
      "source": [
        "#Build in list methods\r\n",
        "number=[1,2,3,4,5]\r\n",
        "number.append(6)\r\n",
        "#number.insert(0,-1)\r\n",
        "number.remove(3)\r\n",
        "number.clear()\r\n",
        "print(number)"
      ],
      "execution_count": null,
      "outputs": [
        {
          "output_type": "stream",
          "text": [
            "[]\n"
          ],
          "name": "stdout"
        }
      ]
    },
    {
      "cell_type": "code",
      "metadata": {
        "colab": {
          "base_uri": "https://localhost:8080/"
        },
        "id": "54WvJeyrHk-e",
        "outputId": "037f0018-2775-4f25-c54e-36007c695fab"
      },
      "source": [
        "g1=[123,'xyz','abc','xyz']\r\n",
        "g2=['mmm','nnn']\r\n",
        "print('count of xyz',g1.count('xyz'))\r\n",
        "print('Index of abc',g1.index('abc'))\r\n",
        "g1.extend(g2)\r\n",
        "g1.insert(1,'ggg')\r\n",
        "g3=[5,9,3,1,2,8]\r\n",
        "g3.sort()\r\n",
        "g3.sort(reverse=True)\r\n",
        "print('Sorted list',g3)\r\n",
        "print('Reversed list',g3)\r\n",
        "#print('Extended list is',g1)\r\n",
        "#print('Ínsert ggg in the index 1',g1)\r\n"
      ],
      "execution_count": null,
      "outputs": [
        {
          "output_type": "stream",
          "text": [
            "count of xyz 2\n",
            "Index of abc 2\n",
            "Sorted list [9, 8, 5, 3, 2, 1]\n",
            "Reversed list [9, 8, 5, 3, 2, 1]\n"
          ],
          "name": "stdout"
        }
      ]
    },
    {
      "cell_type": "code",
      "metadata": {
        "colab": {
          "base_uri": "https://localhost:8080/"
        },
        "id": "NDGj1zY4AEIf",
        "outputId": "280f07bb-df54-484e-8e55-57315c99e448"
      },
      "source": [
        "l1=[3,1,7,9]\r\n",
        "l1.pop(2)\r\n",
        "print('poped list',l1)"
      ],
      "execution_count": null,
      "outputs": [
        {
          "output_type": "stream",
          "text": [
            "poped list [3, 1, 9]\n"
          ],
          "name": "stdout"
        }
      ]
    },
    {
      "cell_type": "code",
      "metadata": {
        "colab": {
          "base_uri": "https://localhost:8080/"
        },
        "id": "MbgbnjMBA4JF",
        "outputId": "031ff5eb-ce52-4a52-c3d2-e8df29502585"
      },
      "source": [
        "l1=[1,5,6,8]\r\n",
        "l1.clear()\r\n",
        "print('Cleared list',l1)"
      ],
      "execution_count": null,
      "outputs": [
        {
          "output_type": "stream",
          "text": [
            "Cleared list []\n"
          ],
          "name": "stdout"
        }
      ]
    },
    {
      "cell_type": "code",
      "metadata": {
        "colab": {
          "base_uri": "https://localhost:8080/"
        },
        "id": "x0sluDjDBY-T",
        "outputId": "9b14c0ab-bac9-4a6e-81f0-42aba28c5ef4"
      },
      "source": [
        "l1=[1,5,6,8]\r\n",
        "l2=l1.copy()\r\n",
        "l1.clear()\r\n",
        "print('Çleared list l1',l1)\r\n",
        "print('Copied list',l2)"
      ],
      "execution_count": null,
      "outputs": [
        {
          "output_type": "stream",
          "text": [
            "Çleared list l1 []\n",
            "Copied list [1, 5, 6, 8]\n"
          ],
          "name": "stdout"
        }
      ]
    },
    {
      "cell_type": "markdown",
      "metadata": {
        "id": "DDVzlysYJ3gz"
      },
      "source": [
        "Using List as Stacks\r\n",
        "- The  List  can  be  used  as  a  stack.  stack  is  a  data  structure  where  the  last  element added is the first element retrieved.\r\n",
        "- The list methods make it very easy to use a list as a stack. To add an item to the top of the stack, use append().To retrieve an item from the top of the stack , use pop() without an explicit index."
      ]
    },
    {
      "cell_type": "code",
      "metadata": {
        "colab": {
          "base_uri": "https://localhost:8080/"
        },
        "id": "gG_l5FZ3CNXH",
        "outputId": "b30d240a-d749-461a-969c-954d34d6eddb"
      },
      "source": [
        "#Using List as Stacks\r\n",
        "s1=[2,45,21,67]\r\n",
        "#s1.sort()\r\n",
        "print(s1)\r\n",
        "s1.append(50)\r\n",
        "print(s1)\r\n",
        "s1.pop()\r\n",
        "print(s1)"
      ],
      "execution_count": null,
      "outputs": [
        {
          "output_type": "stream",
          "text": [
            "[2, 45, 21, 67]\n",
            "[2, 45, 21, 67, 50]\n",
            "[2, 45, 21, 67]\n"
          ],
          "name": "stdout"
        }
      ]
    },
    {
      "cell_type": "markdown",
      "metadata": {
        "id": "5E_78QeaK7fY"
      },
      "source": [
        "Using List as Queue\r\n",
        "-  lists are not efficient for this purpose. \r\n",
        " -While appends and pops from the end of list are fast, doing inserts and pops from the beginning of a list is slow since all of the other elements have to be shifted by one\r\n",
        " - To  implement  a  queue,  python  provides  a  module  called  collections  in  which  a method called deque is designed to have fast appends and pops from both ends."
      ]
    },
    {
      "cell_type": "code",
      "metadata": {
        "colab": {
          "base_uri": "https://localhost:8080/"
        },
        "id": "BfM4S9HpD3mx",
        "outputId": "60d42ff4-e141-4977-b272-ccbb97c2890a"
      },
      "source": [
        "#Using List as Queues\r\n",
        "import collections\r\n",
        "q1=collections.deque(['a','b','c','d'])\r\n",
        "print(q1)\r\n",
        "q1.append('e')\r\n",
        "print(q1)\r\n",
        "q1.popleft()\r\n",
        "print(q1)"
      ],
      "execution_count": null,
      "outputs": [
        {
          "output_type": "stream",
          "text": [
            "deque(['a', 'b', 'c', 'd'])\n",
            "deque(['a', 'b', 'c', 'd', 'e'])\n",
            "deque(['b', 'c', 'd', 'e'])\n"
          ],
          "name": "stdout"
        }
      ]
    },
    {
      "cell_type": "markdown",
      "metadata": {
        "id": "LiNH-Am0LYjc"
      },
      "source": [
        "Tuple\r\n",
        "- A tuple is a sequence of immutablePython objects. Tuples are sequences, just like lists. \r\n",
        "-  The  differences  between  tuples  and  lists  are,  the  tuples  cannot  be  changed unlike lists and tuples use parentheses, whereas lists use square brackets\r\n",
        "- Tuples can be considered as read only lists."
      ]
    },
    {
      "cell_type": "code",
      "metadata": {
        "colab": {
          "base_uri": "https://localhost:8080/"
        },
        "id": "y8nFrXSNJoWr",
        "outputId": "2c5792b3-c720-4948-e37c-79daa527e61e"
      },
      "source": [
        "#Tuples\r\n",
        "t1=(93,2,4,1,59)\r\n",
        "print(t1)\r\n",
        "t2=('a','b')\r\n",
        "print(t2)\r\n",
        "print(t1[0])\r\n",
        "print(t1[0:])\r\n",
        "print(t1[0:-1])\r\n",
        "print(t1[0:5])\r\n",
        "print(t1*2)\r\n",
        "print(t1+t2)\r\n"
      ],
      "execution_count": null,
      "outputs": [
        {
          "output_type": "stream",
          "text": [
            "(93, 2, 4, 1, 59)\n",
            "('a', 'b')\n",
            "93\n",
            "(93, 2, 4, 1, 59)\n",
            "(93, 2, 4, 1)\n",
            "(93, 2, 4, 1, 59)\n",
            "(93, 2, 4, 1, 59, 93, 2, 4, 1, 59)\n",
            "(93, 2, 4, 1, 59, 'a', 'b')\n"
          ],
          "name": "stdout"
        }
      ]
    },
    {
      "cell_type": "markdown",
      "metadata": {
        "id": "0eUhwvvISp2g"
      },
      "source": [
        "#t1[0]=89\r\n",
        "#print(t1)\r\n",
        "#del t1[0]\r\n",
        "#del t1\r\n",
        "#Pack and Unpack values,can create tuple even without paranthesis,Reverse operation is called sequence packing \r\n",
        "Works for any sequence on the right hand side"
      ]
    },
    {
      "cell_type": "code",
      "metadata": {
        "colab": {
          "base_uri": "https://localhost:8080/"
        },
        "id": "5qy9oVvWS4Y3",
        "outputId": "ff10c108-865f-43fc-8012-bc970b5a37d3"
      },
      "source": [
        "t1=1,2,3\r\n",
        "print(t1)\r\n",
        "x,y,z=t1\r\n",
        "x\r\n",
        "y\r\n",
        "print(t1)\r\n",
        "print(x,y,z)"
      ],
      "execution_count": null,
      "outputs": [
        {
          "output_type": "stream",
          "text": [
            "(1, 2, 3)\n",
            "(1, 2, 3)\n",
            "1 2 3\n"
          ],
          "name": "stdout"
        }
      ]
    },
    {
      "cell_type": "code",
      "metadata": {
        "colab": {
          "base_uri": "https://localhost:8080/"
        },
        "id": "SlXLKp3cT4Yl",
        "outputId": "4fa98894-3baf-444d-cba1-0d0ca4e2fad3"
      },
      "source": [
        "#Build in tuples functions\r\n",
        "#len(tuple)\r\n",
        "#max(tuple)\r\n",
        "tuple1,tuple2=(1,2,3),(4,5,6)\r\n",
        "print('Length of first tuple',len(tuple1))\r\n",
        "print(tuple2)\r\n",
        "max(tuple2)\r\n",
        "min(tuple2)\r\n",
        "#convert a list to tuple\r\n",
        "alist=[1,'a','b',20]\r\n",
        "atuple=tuple(alist)\r\n",
        "print(\"Tuple elements are\",atuple)"
      ],
      "execution_count": null,
      "outputs": [
        {
          "output_type": "stream",
          "text": [
            "Length of first tuple 3\n",
            "(4, 5, 6)\n",
            "Tuple elements are (1, 'a', 'b', 20)\n"
          ],
          "name": "stdout"
        }
      ]
    },
    {
      "cell_type": "markdown",
      "metadata": {
        "id": "nwKsf6lGV1FS"
      },
      "source": [
        "\r\n",
        "Set is an unordered collection of unique items. Setis defined by values separated by comma inside braces{ }.It can have any number of items and they maybe of different types(integer,float,tuple,string etc).items in a set are not ordered. Since they are unordered we cannot access or change an element of set using indexing or slicing. we can perform set operations like union ,intersection, difference on two sets. Set have unique values. They eliminate duplicates. The slicing operator [] does not work with sets. An empty set is created by the function set()."
      ]
    },
    {
      "cell_type": "code",
      "metadata": {
        "colab": {
          "base_uri": "https://localhost:8080/"
        },
        "id": "S8ZZe-kpXKuR",
        "outputId": "e7bde3c3-0410-415c-fa84-b5fea0b80a8d"
      },
      "source": [
        "s1={1,2,3}\r\n",
        "print(s1)\r\n",
        "s2={1,2,3,1,4,3} #output only unique values\r\n",
        "print(s2)\r\n",
        "#s3={[2,3]) error"
      ],
      "execution_count": null,
      "outputs": [
        {
          "output_type": "stream",
          "text": [
            "{1, 2, 3}\n",
            "{1, 2, 3, 4}\n"
          ],
          "name": "stdout"
        }
      ]
    },
    {
      "cell_type": "code",
      "metadata": {
        "id": "HjMZZyMwU22v"
      },
      "source": [
        ""
      ],
      "execution_count": null,
      "outputs": []
    }
  ]
}